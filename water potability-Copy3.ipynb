{
 "cells": [
  {
   "cell_type": "code",
   "execution_count": 2,
   "id": "b3384d6c",
   "metadata": {},
   "outputs": [],
   "source": [
    "#Clicking on the Cell tab will reveal a Run All button. Use this to initiate the model.\n",
    "\n",
    "\n",
    "from __future__ import absolute_import, division, print_function, unicode_literals\n",
    "\n",
    "import numpy as np\n",
    "import pandas as pd\n",
    "import matplotlib.pyplot as plt\n",
    "from IPython.display import clear_output\n",
    "from six.moves import urllib\n",
    "\n",
    "import tensorflow.compat.v2.feature_column as fc\n",
    "\n",
    "import tensorflow as tf"
   ]
  },
  {
   "cell_type": "code",
   "execution_count": 3,
   "id": "d0ae2c9c",
   "metadata": {},
   "outputs": [
    {
     "name": "stdout",
     "output_type": "stream",
     "text": [
      "0       0\n",
      "1       0\n",
      "2       0\n",
      "3       0\n",
      "4       0\n",
      "       ..\n",
      "3018    0\n",
      "3019    0\n",
      "3020    0\n",
      "3021    0\n",
      "3022    0\n",
      "Name: Potability, Length: 3023, dtype: int64\n",
      "0      0\n",
      "1      0\n",
      "2      0\n",
      "3      0\n",
      "4      0\n",
      "      ..\n",
      "248    1\n",
      "249    1\n",
      "250    1\n",
      "251    1\n",
      "252    1\n",
      "Name: Potability, Length: 253, dtype: int64\n"
     ]
    }
   ],
   "source": [
    "dftrain = pd.read_csv('water_train.csv') # training data\n",
    "dfeval = pd.read_csv('water_test.csv') # testing data\n",
    "y_train = dftrain.pop('Potability') # pops the 'Potability' column from the training data\n",
    "y_eval = dfeval.pop('Potability') # pops the 'Potability' column from the testing data\n",
    "print(y_train) # Prints the new training data\n",
    "print(y_eval) # Prints the new testing data"
   ]
  },
  {
   "cell_type": "code",
   "execution_count": 4,
   "id": "8bedd6f9",
   "metadata": {},
   "outputs": [],
   "source": [
    "dftrain.fillna(0, inplace=True) \n",
    "dfeval.fillna(0, inplace=True)  # this is used to replace the NaN(Not a number) values involved the the test/train data."
   ]
  },
  {
   "cell_type": "code",
   "execution_count": 5,
   "id": "f1366abe",
   "metadata": {},
   "outputs": [
    {
     "data": {
      "text/html": [
       "<div>\n",
       "<style scoped>\n",
       "    .dataframe tbody tr th:only-of-type {\n",
       "        vertical-align: middle;\n",
       "    }\n",
       "\n",
       "    .dataframe tbody tr th {\n",
       "        vertical-align: top;\n",
       "    }\n",
       "\n",
       "    .dataframe thead th {\n",
       "        text-align: right;\n",
       "    }\n",
       "</style>\n",
       "<table border=\"1\" class=\"dataframe\">\n",
       "  <thead>\n",
       "    <tr style=\"text-align: right;\">\n",
       "      <th></th>\n",
       "      <th>ph</th>\n",
       "      <th>Hardness</th>\n",
       "      <th>Solids</th>\n",
       "      <th>Chloramines</th>\n",
       "      <th>Sulfate</th>\n",
       "      <th>Conductivity</th>\n",
       "      <th>Organic_carbon</th>\n",
       "      <th>Trihalomethanes</th>\n",
       "      <th>Turbidity</th>\n",
       "    </tr>\n",
       "  </thead>\n",
       "  <tbody>\n",
       "    <tr>\n",
       "      <th>0</th>\n",
       "      <td>0.000000</td>\n",
       "      <td>204.890455</td>\n",
       "      <td>20791.318981</td>\n",
       "      <td>7.300212</td>\n",
       "      <td>368.516441</td>\n",
       "      <td>564.308654</td>\n",
       "      <td>10.379783</td>\n",
       "      <td>86.990970</td>\n",
       "      <td>2.963135</td>\n",
       "    </tr>\n",
       "    <tr>\n",
       "      <th>1</th>\n",
       "      <td>3.716080</td>\n",
       "      <td>129.422921</td>\n",
       "      <td>18630.057858</td>\n",
       "      <td>6.635246</td>\n",
       "      <td>0.000000</td>\n",
       "      <td>592.885359</td>\n",
       "      <td>15.180013</td>\n",
       "      <td>56.329076</td>\n",
       "      <td>4.500656</td>\n",
       "    </tr>\n",
       "    <tr>\n",
       "      <th>2</th>\n",
       "      <td>8.099124</td>\n",
       "      <td>224.236259</td>\n",
       "      <td>19909.541732</td>\n",
       "      <td>9.275884</td>\n",
       "      <td>0.000000</td>\n",
       "      <td>418.606213</td>\n",
       "      <td>16.868637</td>\n",
       "      <td>66.420093</td>\n",
       "      <td>3.055934</td>\n",
       "    </tr>\n",
       "    <tr>\n",
       "      <th>3</th>\n",
       "      <td>8.316766</td>\n",
       "      <td>214.373394</td>\n",
       "      <td>22018.417441</td>\n",
       "      <td>8.059332</td>\n",
       "      <td>356.886136</td>\n",
       "      <td>363.266516</td>\n",
       "      <td>18.436524</td>\n",
       "      <td>100.341674</td>\n",
       "      <td>4.628771</td>\n",
       "    </tr>\n",
       "    <tr>\n",
       "      <th>4</th>\n",
       "      <td>9.092223</td>\n",
       "      <td>181.101509</td>\n",
       "      <td>17978.986339</td>\n",
       "      <td>6.546600</td>\n",
       "      <td>310.135738</td>\n",
       "      <td>398.410813</td>\n",
       "      <td>11.558279</td>\n",
       "      <td>31.997993</td>\n",
       "      <td>4.075075</td>\n",
       "    </tr>\n",
       "  </tbody>\n",
       "</table>\n",
       "</div>"
      ],
      "text/plain": [
       "         ph    Hardness        Solids  Chloramines     Sulfate  Conductivity  \\\n",
       "0  0.000000  204.890455  20791.318981     7.300212  368.516441    564.308654   \n",
       "1  3.716080  129.422921  18630.057858     6.635246    0.000000    592.885359   \n",
       "2  8.099124  224.236259  19909.541732     9.275884    0.000000    418.606213   \n",
       "3  8.316766  214.373394  22018.417441     8.059332  356.886136    363.266516   \n",
       "4  9.092223  181.101509  17978.986339     6.546600  310.135738    398.410813   \n",
       "\n",
       "   Organic_carbon  Trihalomethanes  Turbidity  \n",
       "0       10.379783        86.990970   2.963135  \n",
       "1       15.180013        56.329076   4.500656  \n",
       "2       16.868637        66.420093   3.055934  \n",
       "3       18.436524       100.341674   4.628771  \n",
       "4       11.558279        31.997993   4.075075  "
      ]
     },
     "execution_count": 5,
     "metadata": {},
     "output_type": "execute_result"
    }
   ],
   "source": [
    "dftrain.head() #the first few columns of the dataframe"
   ]
  },
  {
   "cell_type": "code",
   "execution_count": 6,
   "id": "815359c2",
   "metadata": {},
   "outputs": [
    {
     "data": {
      "text/html": [
       "<div>\n",
       "<style scoped>\n",
       "    .dataframe tbody tr th:only-of-type {\n",
       "        vertical-align: middle;\n",
       "    }\n",
       "\n",
       "    .dataframe tbody tr th {\n",
       "        vertical-align: top;\n",
       "    }\n",
       "\n",
       "    .dataframe thead th {\n",
       "        text-align: right;\n",
       "    }\n",
       "</style>\n",
       "<table border=\"1\" class=\"dataframe\">\n",
       "  <thead>\n",
       "    <tr style=\"text-align: right;\">\n",
       "      <th></th>\n",
       "      <th>ph</th>\n",
       "      <th>Hardness</th>\n",
       "      <th>Solids</th>\n",
       "      <th>Chloramines</th>\n",
       "      <th>Sulfate</th>\n",
       "      <th>Conductivity</th>\n",
       "      <th>Organic_carbon</th>\n",
       "      <th>Trihalomethanes</th>\n",
       "      <th>Turbidity</th>\n",
       "    </tr>\n",
       "  </thead>\n",
       "  <tbody>\n",
       "    <tr>\n",
       "      <th>count</th>\n",
       "      <td>3023.000000</td>\n",
       "      <td>3023.000000</td>\n",
       "      <td>3023.000000</td>\n",
       "      <td>3023.000000</td>\n",
       "      <td>3023.000000</td>\n",
       "      <td>3023.000000</td>\n",
       "      <td>3023.000000</td>\n",
       "      <td>3023.000000</td>\n",
       "      <td>3023.000000</td>\n",
       "    </tr>\n",
       "    <tr>\n",
       "      <th>mean</th>\n",
       "      <td>5.988550</td>\n",
       "      <td>196.500225</td>\n",
       "      <td>21955.692031</td>\n",
       "      <td>7.122982</td>\n",
       "      <td>255.100646</td>\n",
       "      <td>426.479242</td>\n",
       "      <td>14.286525</td>\n",
       "      <td>63.175461</td>\n",
       "      <td>3.968530</td>\n",
       "    </tr>\n",
       "    <tr>\n",
       "      <th>std</th>\n",
       "      <td>2.933202</td>\n",
       "      <td>32.617526</td>\n",
       "      <td>8634.589330</td>\n",
       "      <td>1.614281</td>\n",
       "      <td>146.293207</td>\n",
       "      <td>80.854368</td>\n",
       "      <td>3.318439</td>\n",
       "      <td>21.361259</td>\n",
       "      <td>0.781373</td>\n",
       "    </tr>\n",
       "    <tr>\n",
       "      <th>min</th>\n",
       "      <td>0.000000</td>\n",
       "      <td>47.432000</td>\n",
       "      <td>320.942611</td>\n",
       "      <td>0.352000</td>\n",
       "      <td>0.000000</td>\n",
       "      <td>181.483754</td>\n",
       "      <td>2.200000</td>\n",
       "      <td>0.000000</td>\n",
       "      <td>1.492207</td>\n",
       "    </tr>\n",
       "    <tr>\n",
       "      <th>25%</th>\n",
       "      <td>5.256161</td>\n",
       "      <td>176.954553</td>\n",
       "      <td>15660.013307</td>\n",
       "      <td>6.106666</td>\n",
       "      <td>244.185701</td>\n",
       "      <td>365.840311</td>\n",
       "      <td>12.052522</td>\n",
       "      <td>53.916933</td>\n",
       "      <td>3.439682</td>\n",
       "    </tr>\n",
       "    <tr>\n",
       "      <th>50%</th>\n",
       "      <td>6.731278</td>\n",
       "      <td>197.102725</td>\n",
       "      <td>20868.627979</td>\n",
       "      <td>7.135497</td>\n",
       "      <td>318.689010</td>\n",
       "      <td>422.067701</td>\n",
       "      <td>14.213799</td>\n",
       "      <td>65.655326</td>\n",
       "      <td>3.955917</td>\n",
       "    </tr>\n",
       "    <tr>\n",
       "      <th>75%</th>\n",
       "      <td>7.833976</td>\n",
       "      <td>216.634730</td>\n",
       "      <td>27177.046229</td>\n",
       "      <td>8.144578</td>\n",
       "      <td>350.581148</td>\n",
       "      <td>481.928903</td>\n",
       "      <td>16.558203</td>\n",
       "      <td>76.796275</td>\n",
       "      <td>4.502900</td>\n",
       "    </tr>\n",
       "    <tr>\n",
       "      <th>max</th>\n",
       "      <td>14.000000</td>\n",
       "      <td>323.124000</td>\n",
       "      <td>61227.196008</td>\n",
       "      <td>13.127000</td>\n",
       "      <td>481.030642</td>\n",
       "      <td>753.342620</td>\n",
       "      <td>28.300000</td>\n",
       "      <td>124.000000</td>\n",
       "      <td>6.739000</td>\n",
       "    </tr>\n",
       "  </tbody>\n",
       "</table>\n",
       "</div>"
      ],
      "text/plain": [
       "                ph     Hardness        Solids  Chloramines      Sulfate  \\\n",
       "count  3023.000000  3023.000000   3023.000000  3023.000000  3023.000000   \n",
       "mean      5.988550   196.500225  21955.692031     7.122982   255.100646   \n",
       "std       2.933202    32.617526   8634.589330     1.614281   146.293207   \n",
       "min       0.000000    47.432000    320.942611     0.352000     0.000000   \n",
       "25%       5.256161   176.954553  15660.013307     6.106666   244.185701   \n",
       "50%       6.731278   197.102725  20868.627979     7.135497   318.689010   \n",
       "75%       7.833976   216.634730  27177.046229     8.144578   350.581148   \n",
       "max      14.000000   323.124000  61227.196008    13.127000   481.030642   \n",
       "\n",
       "       Conductivity  Organic_carbon  Trihalomethanes    Turbidity  \n",
       "count   3023.000000     3023.000000      3023.000000  3023.000000  \n",
       "mean     426.479242       14.286525        63.175461     3.968530  \n",
       "std       80.854368        3.318439        21.361259     0.781373  \n",
       "min      181.483754        2.200000         0.000000     1.492207  \n",
       "25%      365.840311       12.052522        53.916933     3.439682  \n",
       "50%      422.067701       14.213799        65.655326     3.955917  \n",
       "75%      481.928903       16.558203        76.796275     4.502900  \n",
       "max      753.342620       28.300000       124.000000     6.739000  "
      ]
     },
     "execution_count": 6,
     "metadata": {},
     "output_type": "execute_result"
    }
   ],
   "source": [
    "dftrain.describe()  #describes the statistical information of the dataset"
   ]
  },
  {
   "cell_type": "code",
   "execution_count": 7,
   "id": "f3010c7b",
   "metadata": {},
   "outputs": [
    {
     "data": {
      "text/plain": [
       "(3023, 9)"
      ]
     },
     "execution_count": 7,
     "metadata": {},
     "output_type": "execute_result"
    }
   ],
   "source": [
    "dftrain.shape # The shape of the dataframe. This one being the training dataset."
   ]
  },
  {
   "cell_type": "code",
   "execution_count": 8,
   "id": "298936fd",
   "metadata": {},
   "outputs": [
    {
     "data": {
      "text/plain": [
       "<AxesSubplot:>"
      ]
     },
     "execution_count": 8,
     "metadata": {},
     "output_type": "execute_result"
    },
    {
     "data": {
      "image/png": "[encoded data removed]",
      "text/plain": [
       "<Figure size 432x288 with 1 Axes>"
      ]
     },
     "metadata": {
      "needs_background": "light"
     },
     "output_type": "display_data"
    }
   ],
   "source": [
    "dftrain.ph.hist(bins=20) # A histogram showing the distribution of ph values of the samples."
   ]
  },
  {
   "cell_type": "code",
   "execution_count": 9,
   "id": "38412a65",
   "metadata": {},
   "outputs": [],
   "source": [
    "NUMERIC_COLUMNS = [\"ph\",\"Hardness\",\"Solids\",\"Chloramines\",\"Sulfate\",\"Conductivity\",\"Organic_carbon\",\"Trihalomethanes\",\"Turbidity\"]\n",
    "feature_columns = []\n",
    "for feature_name in NUMERIC_COLUMNS:\n",
    "  feature_columns.append(tf.feature_column.numeric_column(feature_name, dtype=tf.float32))\n"
   ]
  },
  {
   "cell_type": "code",
   "execution_count": 10,
   "id": "c50f1011",
   "metadata": {},
   "outputs": [
    {
     "name": "stdout",
     "output_type": "stream",
     "text": [
      "[NumericColumn(key='ph', shape=(1,), default_value=None, dtype=tf.float32, normalizer_fn=None), NumericColumn(key='Hardness', shape=(1,), default_value=None, dtype=tf.float32, normalizer_fn=None), NumericColumn(key='Solids', shape=(1,), default_value=None, dtype=tf.float32, normalizer_fn=None), NumericColumn(key='Chloramines', shape=(1,), default_value=None, dtype=tf.float32, normalizer_fn=None), NumericColumn(key='Sulfate', shape=(1,), default_value=None, dtype=tf.float32, normalizer_fn=None), NumericColumn(key='Conductivity', shape=(1,), default_value=None, dtype=tf.float32, normalizer_fn=None), NumericColumn(key='Organic_carbon', shape=(1,), default_value=None, dtype=tf.float32, normalizer_fn=None), NumericColumn(key='Trihalomethanes', shape=(1,), default_value=None, dtype=tf.float32, normalizer_fn=None), NumericColumn(key='Turbidity', shape=(1,), default_value=None, dtype=tf.float32, normalizer_fn=None)]\n"
     ]
    }
   ],
   "source": [
    "print(feature_columns)"
   ]
  },
  {
   "cell_type": "code",
   "execution_count": 11,
   "id": "75ae539c",
   "metadata": {},
   "outputs": [],
   "source": [
    "def make_input_fn(data_df, label_df, num_epochs=250, shuffle=True, batch_size=128):\n",
    "  def input_function():  # inner function, this will be returned\n",
    "    ds = tf.data.Dataset.from_tensor_slices((dict(data_df), label_df))  # create tf.data.Dataset object with data and its label\n",
    "    if shuffle:\n",
    "      ds = ds.shuffle(1000)  # randomize order of data\n",
    "    ds = ds.batch(batch_size).repeat(num_epochs)  # split dataset into batches of 128 and repeat process for number of epochs(Here, 250)\n",
    "    return ds  # return a batch of the dataset\n",
    "  return input_function  # return a function object for use\n",
    "\n",
    "train_input_fn = make_input_fn(dftrain, y_train)  # here we will call the input_function that was returned to us to get a dataset object we can feed to the model\n",
    "eval_input_fn = make_input_fn(dfeval, y_eval, num_epochs=1, shuffle=False)\n"
   ]
  },
  {
   "cell_type": "code",
   "execution_count": 12,
   "id": "9f614103",
   "metadata": {
    "scrolled": true
   },
   "outputs": [
    {
     "name": "stdout",
     "output_type": "stream",
     "text": [
      "INFO:tensorflow:Using default config.\n",
      "WARNING:tensorflow:Using temporary folder as model directory: /var/folders/s9/31_x52715ws21d_jv1h11snc0000gn/T/tmpg489y152\n",
      "INFO:tensorflow:Using config: {'_model_dir': '/var/folders/s9/31_x52715ws21d_jv1h11snc0000gn/T/tmpg489y152', '_tf_random_seed': None, '_save_summary_steps': 100, '_save_checkpoints_steps': None, '_save_checkpoints_secs': 600, '_session_config': allow_soft_placement: true\n",
      "graph_options {\n",
      "  rewrite_options {\n",
      "    meta_optimizer_iterations: ONE\n",
      "  }\n",
      "}\n",
      ", '_keep_checkpoint_max': 5, '_keep_checkpoint_every_n_hours': 10000, '_log_step_count_steps': 100, '_train_distribute': None, '_device_fn': None, '_protocol': None, '_eval_distribute': None, '_experimental_distribute': None, '_experimental_max_worker_delay_secs': None, '_session_creation_timeout_secs': 7200, '_checkpoint_save_graph_def': True, '_service': None, '_cluster_spec': ClusterSpec({}), '_task_type': 'worker', '_task_id': 0, '_global_id_in_cluster': 0, '_master': '', '_evaluation_master': '', '_is_chief': True, '_num_ps_replicas': 0, '_num_worker_replicas': 1}\n"
     ]
    }
   ],
   "source": [
    "linearest= tf.estimator.LinearClassifier(feature_columns=feature_columns)"
   ]
  },
  {
   "cell_type": "code",
   "execution_count": 13,
   "id": "3f3b92c6",
   "metadata": {},
   "outputs": [
    {
     "name": "stdout",
     "output_type": "stream",
     "text": [
      "54.54545617103577 %\n"
     ]
    }
   ],
   "source": [
    "linearest.train(train_input_fn)  # train\n",
    "result = linearest.evaluate(eval_input_fn)  # get model metrics/stats by testing on testing data\n",
    "\n",
    "clear_output()  # clears console output\n",
    "print(result['accuracy'] * 100, \"%\")  # gives the percentage accuracy of the model"
   ]
  },
  {
   "cell_type": "code",
   "execution_count": 14,
   "id": "6014e68f",
   "metadata": {},
   "outputs": [
    {
     "name": "stdout",
     "output_type": "stream",
     "text": [
      "{'accuracy': 0.54545456, 'accuracy_baseline': 0.6284585, 'auc': 0.46845308, 'auc_precision_recall': 0.615621, 'average_loss': 1.7628375, 'label/mean': 0.6284585, 'loss': 1.7482375, 'precision': 0.61, 'prediction/mean': 0.7802724, 'recall': 0.7672956, 'global_step': 6000}\n"
     ]
    }
   ],
   "source": [
    "print(result) # the result variable is simply a dict of stats about our model"
   ]
  },
  {
   "cell_type": "code",
   "execution_count": 15,
   "id": "81a60cd5",
   "metadata": {},
   "outputs": [
    {
     "name": "stdout",
     "output_type": "stream",
     "text": [
      "INFO:tensorflow:Calling model_fn.\n",
      "INFO:tensorflow:Done calling model_fn.\n",
      "INFO:tensorflow:Graph was finalized.\n",
      "INFO:tensorflow:Restoring parameters from /var/folders/s9/31_x52715ws21d_jv1h11snc0000gn/T/tmpg489y152/model.ckpt-6000\n",
      "INFO:tensorflow:Running local_init_op.\n",
      "INFO:tensorflow:Done running local_init_op.\n"
     ]
    }
   ],
   "source": [
    "reslt = list(linearest.predict(eval_input_fn)) "
   ]
  },
  {
   "cell_type": "code",
   "execution_count": 16,
   "id": "eeb8387f",
   "metadata": {},
   "outputs": [
    {
     "name": "stdout",
     "output_type": "stream",
     "text": [
      "Enter the code value of the sample : 120\n",
      "The predicted potability of the sample is :\n",
      "99.92074370384216 %\n",
      "The data assosciated with the sample : \n",
      "ph                     6.332387\n",
      "Hardness             186.838028\n",
      "Solids             23073.063966\n",
      "Chloramines            8.082004\n",
      "Sulfate              326.980476\n",
      "Conductivity         233.907965\n",
      "Organic_carbon         9.641442\n",
      "Trihalomethanes       60.940028\n",
      "Turbidity              5.159002\n",
      "Name: 120, dtype: float64\n",
      "The actual potability(0(Which means the sample is unsuitable for drinking or 1(The sample is suitable for drinking)): \n",
      "1\n"
     ]
    }
   ],
   "source": [
    "#Now run this block after inputting a value in the previous block.\n",
    "def result(num):\n",
    "    print(\"The predicted potability of the sample is :\")\n",
    "    print(reslt[num][\"probabilities\"][1] * 100, \"%\")\n",
    "\n",
    "    print(\"The data assosciated with the sample : \")\n",
    "\n",
    "    print(dfeval.loc[num])\n",
    "\n",
    "    print(\"The actual potability(0(Which means the sample is unsuitable for drinking or 1(The sample is suitable for drinking)): \")\n",
    "    print(y_eval.loc[num])\n",
    "\n",
    "x = int(input(\"Enter the code value of the sample : \"))  # You can interact with the model here\n",
    "result(x)"
   ]
  },
  {
   "cell_type": "code",
   "execution_count": 17,
   "id": "d8f2f139",
   "metadata": {},
   "outputs": [],
   "source": [
    "# The model may show inaccurate values as it is still in its early stages"
   ]
  }
 ],
 "metadata": {
  "kernelspec": {
   "display_name": "Python 3",
   "language": "python",
   "name": "python3"
  },
  "language_info": {
   "codemirror_mode": {
    "name": "ipython",
    "version": 3
   },
   "file_extension": ".py",
   "mimetype": "text/x-python",
   "name": "python",
   "nbconvert_exporter": "python",
   "pygments_lexer": "ipython3",
   "version": "3.8.8"
  }
 },
 "nbformat": 4,
 "nbformat_minor": 5
}
