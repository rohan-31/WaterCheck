{
 "cells": [
  {
   "cell_type": "code",
   "execution_count": null,
   "id": "b3384d6c",
   "metadata": {},
   "outputs": [],
   "source": [
    "#Clicking on the Cell tab will reveal a Run All button. Use this to initiate the model.\n",
    "\n",
    "\n",
    "from __future__ import absolute_import, division, print_function, unicode_literals\n",
    "\n",
    "import numpy as np\n",
    "import pandas as pd\n",
    "import matplotlib.pyplot as plt\n",
    "from IPython.display import clear_output\n",
    "from six.moves import urllib\n",
    "\n",
    "import tensorflow.compat.v2.feature_column as fc\n",
    "\n",
    "import tensorflow as tf"
   ]
  },
  {
   "cell_type": "code",
   "execution_count": null,
   "id": "d0ae2c9c",
   "metadata": {},
   "outputs": [],
   "source": [
    "dftrain = pd.read_csv('water_train.csv') # training data\n",
    "dfeval = pd.read_csv('water_test.csv') # testing data\n",
    "y_train = dftrain.pop('Potability') # pops the 'Potability' column from the training data\n",
    "y_eval = dfeval.pop('Potability') # pops the 'Potability' column from the testing data\n",
    "print(y_train) # Prints the new training data\n",
    "print(y_eval) # Prints the new testing data"
   ]
  },
  {
   "cell_type": "code",
   "execution_count": null,
   "id": "8bedd6f9",
   "metadata": {},
   "outputs": [],
   "source": [
    "dftrain.fillna(0, inplace=True) \n",
    "dfeval.fillna(0, inplace=True)  # this is used to replace the NaN(Not a number) values involved the the test/train data."
   ]
  },
  {
   "cell_type": "code",
   "execution_count": null,
   "id": "f1366abe",
   "metadata": {},
   "outputs": [],
   "source": [
    "dftrain.head() #the first few columns of the dataframe"
   ]
  },
  {
   "cell_type": "code",
   "execution_count": null,
   "id": "815359c2",
   "metadata": {},
   "outputs": [],
   "source": [
    "dftrain.describe()  #describes the statistical information of the dataset"
   ]
  },
  {
   "cell_type": "code",
   "execution_count": null,
   "id": "f3010c7b",
   "metadata": {},
   "outputs": [],
   "source": [
    "dftrain.shape # The shape of the dataframe. This one being the training dataset."
   ]
  },
  {
   "cell_type": "code",
   "execution_count": null,
   "id": "298936fd",
   "metadata": {},
   "outputs": [],
   "source": [
    "dftrain.ph.hist(bins=20) # A histogram showing the distribution of ph values of the samples."
   ]
  },
  {
   "cell_type": "code",
   "execution_count": null,
   "id": "38412a65",
   "metadata": {},
   "outputs": [],
   "source": [
    "NUMERIC_COLUMNS = [\"ph\",\"Hardness\",\"Solids\",\"Chloramines\",\"Sulfate\",\"Conductivity\",\"Organic_carbon\",\"Trihalomethanes\",\"Turbidity\"]\n",
    "feature_columns = []\n",
    "for feature_name in NUMERIC_COLUMNS:\n",
    "  feature_columns.append(tf.feature_column.numeric_column(feature_name, dtype=tf.float32))\n"
   ]
  },
  {
   "cell_type": "code",
   "execution_count": null,
   "id": "c50f1011",
   "metadata": {},
   "outputs": [],
   "source": [
    "print(feature_columns)"
   ]
  },
  {
   "cell_type": "code",
   "execution_count": null,
   "id": "75ae539c",
   "metadata": {},
   "outputs": [],
   "source": [
    "def make_input_fn(data_df, label_df, num_epochs=250, shuffle=True, batch_size=128):\n",
    "  def input_function():  # inner function, this will be returned\n",
    "    ds = tf.data.Dataset.from_tensor_slices((dict(data_df), label_df))  # create tf.data.Dataset object with data and its label\n",
    "    if shuffle:\n",
    "      ds = ds.shuffle(1000)  # randomize order of data\n",
    "    ds = ds.batch(batch_size).repeat(num_epochs)  # split dataset into batches of 128 and repeat process for number of epochs(Here, 250)\n",
    "    return ds  # return a batch of the dataset\n",
    "  return input_function  # return a function object for use\n",
    "\n",
    "train_input_fn = make_input_fn(dftrain, y_train)  # here we will call the input_function that was returned to us to get a dataset object we can feed to the model\n",
    "eval_input_fn = make_input_fn(dfeval, y_eval, num_epochs=1, shuffle=False)\n"
   ]
  },
  {
   "cell_type": "code",
   "execution_count": null,
   "id": "9f614103",
   "metadata": {
    "scrolled": true
   },
   "outputs": [],
   "source": [
    "linearest= tf.estimator.LinearClassifier(feature_columns=feature_columns)"
   ]
  },
  {
   "cell_type": "code",
   "execution_count": null,
   "id": "3f3b92c6",
   "metadata": {},
   "outputs": [],
   "source": [
    "linearest.train(train_input_fn)  # train\n",
    "result = linearest.evaluate(eval_input_fn)  # get model metrics/stats by testing on testing data\n",
    "\n",
    "clear_output()  # clears console output\n",
    "print(result['accuracy'] * 100, \"%\")  # gives the percentage accuracy of the model"
   ]
  },
  {
   "cell_type": "code",
   "execution_count": null,
   "id": "6014e68f",
   "metadata": {},
   "outputs": [],
   "source": [
    "print(result) # the result variable is simply a dict of stats about our model"
   ]
  },
  {
   "cell_type": "code",
   "execution_count": null,
   "id": "81a60cd5",
   "metadata": {},
   "outputs": [],
   "source": [
    "reslt = list(linearest.predict(eval_input_fn)) "
   ]
  },
  {
   "cell_type": "code",
   "execution_count": null,
   "id": "84088a38",
   "metadata": {},
   "outputs": [],
   "source": [
    "x = int(input(\"Enter the code value of the sample : \"))  # You can interact with the model here\n",
    "\n",
    "\n",
    "#Press enter after entering a value between 0-252."
   ]
  },
  {
   "cell_type": "code",
   "execution_count": null,
   "id": "eeb8387f",
   "metadata": {},
   "outputs": [],
   "source": [
    "#Now run this block after inputting a value in the previous block.\n",
    "\n",
    "print(\"The predicted potability of the sample is :\")\n",
    "print(reslt[x][\"probabilities\"][1] * 100, \"%\")\n",
    "\n",
    "print(\"The data assosciated with the sample : \")\n",
    "\n",
    "print(dfeval.loc[x])\n",
    "\n",
    "print(\"The actual potability(0(Which means the sample is unsuitable for drinking or 1(The sample is suitable for drinking)): \")\n",
    "print(y_eval.loc[x])"
   ]
  },
  {
   "cell_type": "code",
   "execution_count": null,
   "id": "d8f2f139",
   "metadata": {},
   "outputs": [],
   "source": [
    "# The model may show inaccurate values as it is still in its early stages"
   ]
  },
  {
   "cell_type": "code",
   "execution_count": null,
   "id": "8a117622",
   "metadata": {},
   "outputs": [],
   "source": []
  },
  {
   "cell_type": "code",
   "execution_count": null,
   "id": "f690f38c",
   "metadata": {},
   "outputs": [],
   "source": []
  },
  {
   "cell_type": "code",
   "execution_count": null,
   "id": "463e0913",
   "metadata": {},
   "outputs": [],
   "source": []
  },
  {
   "cell_type": "code",
   "execution_count": null,
   "id": "d3551c2d",
   "metadata": {},
   "outputs": [],
   "source": []
  },
  {
   "cell_type": "code",
   "execution_count": null,
   "id": "7a6536ed",
   "metadata": {},
   "outputs": [],
   "source": []
  },
  {
   "cell_type": "code",
   "execution_count": null,
   "id": "06492997",
   "metadata": {},
   "outputs": [],
   "source": []
  }
 ],
 "metadata": {
  "kernelspec": {
   "display_name": "Python 3",
   "language": "python",
   "name": "python3"
  },
  "language_info": {
   "codemirror_mode": {
    "name": "ipython",
    "version": 3
   },
   "file_extension": ".py",
   "mimetype": "text/x-python",
   "name": "python",
   "nbconvert_exporter": "python",
   "pygments_lexer": "ipython3",
   "version": "3.8.8"
  }
 },
 "nbformat": 4,
 "nbformat_minor": 5
}
